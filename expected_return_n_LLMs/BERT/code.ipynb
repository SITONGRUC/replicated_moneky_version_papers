{
 "cells": [
  {
   "cell_type": "code",
   "execution_count": 1,
   "metadata": {
    "tags": []
   },
   "outputs": [
    {
     "name": "stderr",
     "output_type": "stream",
     "text": [
      "/root/miniconda3/envs/myconda/lib/python3.8/site-packages/tqdm/auto.py:21: TqdmWarning: IProgress not found. Please update jupyter and ipywidgets. See https://ipywidgets.readthedocs.io/en/stable/user_install.html\n",
      "  from .autonotebook import tqdm as notebook_tqdm\n"
     ]
    }
   ],
   "source": [
    "import pandas as pd\n",
    "import numpy as np\n",
    "import re\n",
    "import torch\n",
    "from transformers import AutoModel, AutoTokenizer\n",
    "from torch.optim import Adam\n",
    "from tqdm import tqdm\n",
    "import os\n",
    "from pandas.tseries.offsets import MonthEnd\n",
    "from sklearn.model_selection import train_test_split\n",
    "from torch.utils.data import TensorDataset, DataLoader\n",
    "from sklearn.metrics import r2_score"
   ]
  },
  {
   "cell_type": "code",
   "execution_count": 2,
   "metadata": {
    "tags": []
   },
   "outputs": [],
   "source": [
    "#Read data in \n",
    "data = pd.read_csv('AMZN.csv')[['title','return']]\n",
    "data['title'] = data['title'].astype(str)"
   ]
  },
  {
   "cell_type": "code",
   "execution_count": 3,
   "metadata": {
    "tags": []
   },
   "outputs": [],
   "source": [
    "# import LLMs and set the dataset\n",
    "model_name = 'bert-base-uncased'\n",
    "# tokenizer = AutoTokenizer.from_pretrained(model_name)\n",
    "tokenizer = AutoTokenizer.from_pretrained(model_name)\n",
    "model = AutoModel.from_pretrained(model_name)\n",
    "class Dataset(torch.utils.data.Dataset):\n",
    "    def __init__(self,data_trail ):\n",
    "        self.labels = [data_trail['return'].iloc[i] for i in range(len(data_trail))]\n",
    "        self.texts = [tokenizer(data_trail['title'].iloc[i], \n",
    "                                padding='max_length', \n",
    "                                max_length = 64, \n",
    "                                truncation=True,\n",
    "                                return_tensors=\"pt\") \n",
    "                      for i in range(len(data_trail))]\n",
    "\n",
    "    def classes(self):\n",
    "        return self.labels\n",
    "\n",
    "    def __len__(self):\n",
    "        return len(self.labels)\n",
    "\n",
    "    def get_batch_labels(self, idx):\n",
    "        # Fetch a batch of labels\n",
    "        return np.array(self.labels[idx])\n",
    "\n",
    "    def get_batch_texts(self, idx):\n",
    "        # Fetch a batch of inputs\n",
    "        return self.texts[idx]\n",
    "\n",
    "    def __getitem__(self, idx):\n",
    "        batch_texts = self.get_batch_texts(idx)\n",
    "        batch_y = self.get_batch_labels(idx)\n",
    "        return batch_texts, batch_y"
   ]
  },
  {
   "cell_type": "code",
   "execution_count": 4,
   "metadata": {
    "tags": []
   },
   "outputs": [
    {
     "name": "stdout",
     "output_type": "stream",
     "text": [
      "34669 11557 11557\n"
     ]
    }
   ],
   "source": [
    "#split the data into train,val, test\n",
    "df_train, df_val, df_test = np.split(data.sample(frac=1, random_state=42), \n",
    "                                     [int(.6*len(data)), int(.8*len(data))])\n",
    "\n",
    "print(len(df_train),len(df_val), len(df_test))"
   ]
  },
  {
   "cell_type": "code",
   "execution_count": 5,
   "metadata": {
    "tags": []
   },
   "outputs": [],
   "source": [
    "#model building \n",
    "from torch import nn\n",
    "from transformers import BertModel\n",
    "\n",
    "class BertModel(nn.Module):\n",
    "    def __init__(self,drop = 0.2):\n",
    "        super(BertModel, self).__init__()\n",
    "        self.bert = AutoModel.from_pretrained(model_name)\n",
    "        self.dropout = nn.Dropout(p=drop)\n",
    "        self.linear = nn.Linear(768, 1)\n",
    "\n",
    "    def forward(self, input_id, mask):\n",
    "        _, pooled_output = self.bert(input_ids= input_id, attention_mask=mask,return_dict=False)\n",
    "        pooled_output = self.dropout(pooled_output)\n",
    "        linear_output = self.linear(pooled_output)\n",
    "        return linear_output "
   ]
  },
  {
   "cell_type": "code",
   "execution_count": 13,
   "metadata": {
    "tags": []
   },
   "outputs": [
    {
     "name": "stderr",
     "output_type": "stream",
     "text": [
      "100%|██████████| 542/542 [02:23<00:00,  3.78it/s]\n"
     ]
    },
    {
     "name": "stdout",
     "output_type": "stream",
     "text": [
      "0.014889574321823518\n"
     ]
    }
   ],
   "source": [
    "\n",
    "train_data = df_train\n",
    "val_data = df_val\n",
    "# Set epochs\n",
    "epochs = 1\n",
    "#set the hypepara drop out rate\n",
    "model = BertModel(drop = 0.99)\n",
    "#set the learning rate\n",
    "learning_rate = 1e-6\n",
    "#set the ridge hypepara\n",
    "l2 = 1e-5\n",
    "\n",
    "\n",
    "corr_mean = []\n",
    "\n",
    "for time in range(1):\n",
    "    train, val = Dataset(train_data), Dataset(val_data)\n",
    "\n",
    "    train_dataloader = torch.utils.data.DataLoader(train, batch_size=64, shuffle=True)\n",
    "    val_dataloader = torch.utils.data.DataLoader(val, batch_size=200)\n",
    "    use_cuda = torch.cuda.is_available()\n",
    "    device = torch.device(\"cuda\" if use_cuda else \"cpu\")\n",
    "    #used the MSE loss\n",
    "    criterion = nn.MSELoss()\n",
    "    #input the learning rate and the ridge parameter. \n",
    "    optimizer = Adam(model.parameters(), lr=learning_rate,weight_decay=l2)\n",
    "    if use_cuda:\n",
    "        model = model.cuda()\n",
    "        criterion = criterion.cuda()\n",
    "    total_loss = []\n",
    "    total_cor= []\n",
    "    for epoch_num in range(epochs):\n",
    "            output_total = []\n",
    "            valput_total = []\n",
    "\n",
    "            # total_loss_train = 0\n",
    "\n",
    "\n",
    "            for train_input, train_label in tqdm(train_dataloader):\n",
    "\n",
    "                train_label = train_label.to(device)\n",
    "                mask = train_input['attention_mask'].to(device)\n",
    "                input_id = train_input['input_ids'].squeeze(1).to(device)\n",
    "\n",
    "                output = model(input_id, mask)\n",
    "\n",
    "                output = output.flatten()\n",
    "                train_label = train_label.double()\n",
    "                output = output.double()\n",
    "\n",
    "                batch_loss = criterion(output, train_label)\n",
    "                # total_loss_train += batch_loss.item()\n",
    "\n",
    "                total_loss.append(batch_loss.item())\n",
    "\n",
    "                model.zero_grad()\n",
    "                batch_loss.backward()\n",
    "                optimizer.step()\n",
    "            # total_loss_val = 0\n",
    "\n",
    "            with torch.no_grad():\n",
    "\n",
    "                for val_input, val_label in val_dataloader:\n",
    "\n",
    "                    val_label = val_label.to(device)\n",
    "                    mask = val_input['attention_mask'].to(device)\n",
    "                    input_id = val_input['input_ids'].squeeze(1).to(device)\n",
    "\n",
    "                    output = model(input_id, mask)\n",
    "                    output = output.flatten()\n",
    "\n",
    "                    val_label = val_label.double()\n",
    "                    output = output.double()\n",
    "                    batch_loss = criterion(output, val_label)\n",
    "                    output_total.append(output.cpu())\n",
    "                    valput_total.append(val_label.cpu())\n",
    "                    corration = torch.corrcoef(torch.tensor([output.cpu().numpy(),val_label.cpu().numpy()]))[0][1].tolist()\n",
    "                    total_cor.append(corration)\n",
    "                    label = f'''Epochs: {epoch_num + 1} || Corr: {corration: .6f}'''\n",
    "    #                 plt.scatter(output.cpu().numpy(),val_label.cpu().numpy(),label = label)\n",
    "    #                 plt.legend()\n",
    "    #                 plt.savefig(label+'.jpg')\n",
    "    #                 plt.show()\n",
    "                output_total = list(map(lambda x:x.tolist(),output_total))\n",
    "                valput_total = list(map(lambda x:x.tolist(),valput_total))\n",
    "                rvalput = []\n",
    "                routput = []\n",
    "                for i in valput_total:\n",
    "                    rvalput+= i\n",
    "                for i in output_total:\n",
    "                    routput += i \n",
    "                label = np.corrcoef(rvalput,routput)\n",
    "\n",
    "\n",
    "            print(label[0][1])  \n",
    "            corr_mean.append(label[0][1])\n"
   ]
  },
  {
   "cell_type": "code",
   "execution_count": 15,
   "metadata": {
    "tags": []
   },
   "outputs": [
    {
     "data": {
      "image/png": "[encoded data removed]",
      "text/plain": [
       "<Figure size 432x288 with 1 Axes>"
      ]
     },
     "metadata": {
      "needs_background": "light"
     },
     "output_type": "display_data"
    }
   ],
   "source": [
    "import matplotlib.pyplot as plt \n",
    "plt.plot([i for i in range(len(total_loss))],total_loss,label = 'MSE_loss')\n",
    "plt.legend()\n",
    "plt.title('train_loss_with_amzn')\n",
    "plt.show()"
   ]
  },
  {
   "cell_type": "markdown",
   "metadata": {},
   "source": [
    "#### "
   ]
  }
 ],
 "metadata": {
  "colab": {
   "provenance": []
  },
  "kernelspec": {
   "display_name": "myconda",
   "language": "python",
   "name": "myconda"
  },
  "language_info": {
   "codemirror_mode": {
    "name": "ipython",
    "version": 3
   },
   "file_extension": ".py",
   "mimetype": "text/x-python",
   "name": "python",
   "nbconvert_exporter": "python",
   "pygments_lexer": "ipython3",
   "version": "3.8.12"
  }
 },
 "nbformat": 4,
 "nbformat_minor": 4
}
